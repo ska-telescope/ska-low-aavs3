{
 "cells": [
  {
   "cell_type": "markdown",
   "id": "30ffba16-6c6d-4cc1-b615-4c9f101897b8",
   "metadata": {},
   "source": [
    "This is an example notebook for interacting with MCCS Tango devices on AAVS3."
   ]
  },
  {
   "cell_type": "markdown",
   "id": "23090044-411e-4007-b297-a89f87d7dc98",
   "metadata": {},
   "source": [
    "## Setup\n",
    "First we have to set the TANGO_HOST environment variable:"
   ]
  },
  {
   "cell_type": "code",
   "execution_count": 3,
   "id": "ca150107-b1db-41c2-8eda-8dae370c791b",
   "metadata": {},
   "outputs": [],
   "source": [
    "import os\n",
    "os.environ[\"TANGO_HOST\"] = \"tango-databaseds.ska-low-aavs3:10000\""
   ]
  },
  {
   "cell_type": "markdown",
   "id": "00acd894-db52-4d82-854e-b78a8138172e",
   "metadata": {},
   "source": [
    "Now we import the Tango Controls package:"
   ]
  },
  {
   "cell_type": "code",
   "execution_count": 4,
   "id": "e05d7062-1c97-4f95-b133-a2da77681d2b",
   "metadata": {},
   "outputs": [],
   "source": [
    "import tango"
   ]
  },
  {
   "cell_type": "markdown",
   "id": "3b16335d-1599-4fb2-a19f-3fcf07a29358",
   "metadata": {},
   "source": [
    "## Interrogating the subrack\n",
    "Currently, the AAVS3 cluster is located in the Low ITF,\n",
    "and it can only see one subrack and two TPMs.\n",
    "Let's get a proxy to the Tango device that monitors and controls the subrack.\n",
    "The name of this Tango device is \"low-mccs/subrack/0001\":"
   ]
  },
  {
   "cell_type": "code",
   "execution_count": 5,
   "id": "de5900eb-fa2d-423a-9e2e-f6c463810e79",
   "metadata": {},
   "outputs": [],
   "source": [
    "subrack = tango.DeviceProxy(\"low-mccs/subrack/0001\")"
   ]
  },
  {
   "cell_type": "markdown",
   "id": "79afa1fe-3acf-4f58-b358-2bd7afd06ab7",
   "metadata": {},
   "source": [
    "Let's read the admin mode and state of the subrack:"
   ]
  },
  {
   "cell_type": "code",
   "execution_count": 6,
   "id": "a1689ef9-01be-40c5-b338-8742b3a57224",
   "metadata": {},
   "outputs": [
    {
     "data": {
      "text/plain": [
       "<adminMode.OFFLINE: 1>"
      ]
     },
     "execution_count": 6,
     "metadata": {},
     "output_type": "execute_result"
    }
   ],
   "source": [
    "subrack.adminMode"
   ]
  },
  {
   "cell_type": "code",
   "execution_count": 7,
   "id": "7a993015-414d-419d-8eec-38b65317fdfc",
   "metadata": {},
   "outputs": [
    {
     "data": {
      "text/plain": [
       "tango._tango.DevState.DISABLE"
      ]
     },
     "execution_count": 7,
     "metadata": {},
     "output_type": "execute_result"
    }
   ],
   "source": [
    "subrack.State()"
   ]
  },
  {
   "cell_type": "markdown",
   "id": "5bcd0dcd-ff42-4e4f-aa18-e0c45dd3493f",
   "metadata": {},
   "source": [
    "The subrack Tango device is in OFFLINE admin mode,\n",
    "which means it is sitting there doing nothing,\n",
    "not even trying to monitor and control the subrack hardware.\n",
    "As such, its state is DISABLE.\n",
    "We can tell this Tango device to start monitoring and controlling its subrack,\n",
    "by putting it online."
   ]
  },
  {
   "cell_type": "code",
   "execution_count": 8,
   "id": "0b033793-9627-4579-bc3b-807f4c9f2419",
   "metadata": {},
   "outputs": [],
   "source": [
    "subrack.adminMode = 0"
   ]
  },
  {
   "cell_type": "code",
   "execution_count": 9,
   "id": "2876a5ac-9561-4de4-925a-d7d4753caad1",
   "metadata": {},
   "outputs": [
    {
     "data": {
      "text/plain": [
       "tango._tango.DevState.ON"
      ]
     },
     "execution_count": 9,
     "metadata": {},
     "output_type": "execute_result"
    }
   ],
   "source": [
    "subrack.state()"
   ]
  },
  {
   "cell_type": "markdown",
   "id": "26089275-1f47-4ffe-b9be-585dc5c1e865",
   "metadata": {},
   "source": [
    "Hooray, the subrack Tango device has started monitoring and controlling its subrack hardware.\n",
    "It has detected that the subrack is powered on, with no fault detected.\n",
    "It therefore reports its state as ON."
   ]
  },
  {
   "cell_type": "markdown",
   "id": "00194364-7280-4e77-ab03-8f54175356cc",
   "metadata": {},
   "source": [
    "I wonder what TPMs are present in this subrack?"
   ]
  },
  {
   "cell_type": "code",
   "execution_count": 10,
   "id": "48522bf7-1f16-41fa-ae0b-c94cc0b13c61",
   "metadata": {},
   "outputs": [
    {
     "data": {
      "text/plain": [
       "array([False, False,  True, False, False, False,  True, False])"
      ]
     },
     "execution_count": 10,
     "metadata": {},
     "output_type": "execute_result"
    }
   ],
   "source": [
    "subrack.tpmPresent"
   ]
  },
  {
   "cell_type": "markdown",
   "id": "bcf3d0bb-2783-4403-a15b-03a52b15cbfa",
   "metadata": {},
   "source": [
    "Okay, there is a TPM in bay 3, and a TPM in bay 7.\n",
    "I wonder whether they are off or on?"
   ]
  },
  {
   "cell_type": "code",
   "execution_count": 11,
   "id": "6a403924-2dce-4f00-8eea-6e1f81d56e63",
   "metadata": {},
   "outputs": [
    {
     "data": {
      "text/plain": [
       "<tpm3PowerState.OFF: 2>"
      ]
     },
     "execution_count": 11,
     "metadata": {},
     "output_type": "execute_result"
    }
   ],
   "source": [
    "subrack.tpm3powerstate"
   ]
  },
  {
   "cell_type": "code",
   "execution_count": 12,
   "id": "832932be-fafc-4f28-9a38-c417394f5b66",
   "metadata": {},
   "outputs": [
    {
     "data": {
      "text/plain": [
       "<tpm7PowerState.OFF: 2>"
      ]
     },
     "execution_count": 12,
     "metadata": {},
     "output_type": "execute_result"
    }
   ],
   "source": [
    "subrack.tpm7powerstate"
   ]
  },
  {
   "cell_type": "markdown",
   "id": "7aabfa81-9740-470b-ac69-d38c14abf7da",
   "metadata": {},
   "source": [
    "# Interrogating a TPM\n",
    "Before we try turning a TPM on,\n",
    "let's create a proxy to a Tango device that monitors and controls one of the TPMs.\n",
    "The name of this Tango device is ``low-mccs/tile/0002``."
   ]
  },
  {
   "cell_type": "code",
   "execution_count": 13,
   "id": "1857abd9-90ba-46f7-b10e-3ee42e2eef7a",
   "metadata": {},
   "outputs": [],
   "source": [
    "tile = tango.DeviceProxy(\"low-mccs/tile/0002\")"
   ]
  },
  {
   "cell_type": "markdown",
   "id": "548308ab-18c5-4711-af0e-ab7aed33190c",
   "metadata": {},
   "source": [
    "Which TPM is this? -- the one in bay 3 por the one in bay 7?"
   ]
  },
  {
   "cell_type": "code",
   "execution_count": 14,
   "id": "923d0cd5-389b-4c5b-9f2e-bef49086ac2e",
   "metadata": {},
   "outputs": [
    {
     "data": {
      "text/plain": [
       "{'SubrackBay': ['7']}"
      ]
     },
     "execution_count": 14,
     "metadata": {},
     "output_type": "execute_result"
    }
   ],
   "source": [
    "tile.get_property(\"SubrackBay\")"
   ]
  },
  {
   "cell_type": "markdown",
   "id": "45135b0a-9dca-43aa-a97f-400c99dd4c00",
   "metadata": {},
   "source": [
    "As with the subrack, let's check the Tango device's admin mode and state:"
   ]
  },
  {
   "cell_type": "code",
   "execution_count": 15,
   "id": "5ba4d7ef-d29f-4434-8d3b-7f6ff6902285",
   "metadata": {},
   "outputs": [
    {
     "data": {
      "text/plain": [
       "<adminMode.OFFLINE: 1>"
      ]
     },
     "execution_count": 15,
     "metadata": {},
     "output_type": "execute_result"
    }
   ],
   "source": [
    "tile.adminMode"
   ]
  },
  {
   "cell_type": "code",
   "execution_count": 16,
   "id": "ceaab103-c32f-4329-bbe1-34ffd7a36d01",
   "metadata": {},
   "outputs": [
    {
     "data": {
      "text/plain": [
       "tango._tango.DevState.DISABLE"
      ]
     },
     "execution_count": 16,
     "metadata": {},
     "output_type": "execute_result"
    }
   ],
   "source": [
    "tile.State()"
   ]
  },
  {
   "cell_type": "markdown",
   "id": "6bb8667f-65fe-4dd3-807d-1866b1e536b0",
   "metadata": {},
   "source": [
    "The MCCS Tile tango device is in OFFLINE mode, which means it is sitting there doing nothing, not even trying to monitor and control its TPM. As such, its state is DISABLE.\n",
    "We can tell this device to start monitoring and controlling its TPM by putting it online:"
   ]
  },
  {
   "cell_type": "code",
   "execution_count": 17,
   "id": "4dbccea0-f419-4e44-9892-5ff1f82a100d",
   "metadata": {},
   "outputs": [],
   "source": [
    "tile.adminMode = 0"
   ]
  },
  {
   "cell_type": "code",
   "execution_count": 18,
   "id": "0b264a55-8670-4bef-bcb4-4216c9fd5d9a",
   "metadata": {},
   "outputs": [
    {
     "data": {
      "text/plain": [
       "tango._tango.DevState.OFF"
      ]
     },
     "execution_count": 18,
     "metadata": {},
     "output_type": "execute_result"
    }
   ],
   "source": [
    "tile.State()"
   ]
  },
  {
   "cell_type": "markdown",
   "id": "5fc5baa6-3414-48c8-b4d8-75f7df7d4aaa",
   "metadata": {},
   "source": [
    "Great, the tile Tango device is monitoring and controlling its TPM,\n",
    "and knows that it is powered off.\n",
    "\n",
    "## Turn on a TPM\n",
    "Let's turn it on!"
   ]
  },
  {
   "cell_type": "code",
   "execution_count": 19,
   "id": "b06d1b8c-1c80-43a8-9e75-26a150c619e8",
   "metadata": {},
   "outputs": [
    {
     "data": {
      "text/plain": [
       "[array([2], dtype=int32), ['1685363170.2888312_155569837511772_On']]"
      ]
     },
     "execution_count": 19,
     "metadata": {},
     "output_type": "execute_result"
    }
   ],
   "source": [
    "tile.On()"
   ]
  },
  {
   "cell_type": "code",
   "execution_count": 20,
   "id": "2123a490-5633-483e-8375-cf986c232776",
   "metadata": {},
   "outputs": [
    {
     "data": {
      "text/plain": [
       "tango._tango.DevState.ON"
      ]
     },
     "execution_count": 20,
     "metadata": {},
     "output_type": "execute_result"
    }
   ],
   "source": [
    "tile.State()"
   ]
  },
  {
   "cell_type": "code",
   "execution_count": 21,
   "id": "a2bd2df9-4479-4005-bec9-019fcdfa0467",
   "metadata": {},
   "outputs": [
    {
     "data": {
      "text/plain": [
       "<tpm7PowerState.ON: 4>"
      ]
     },
     "execution_count": 21,
     "metadata": {},
     "output_type": "execute_result"
    }
   ],
   "source": [
    "subrack.tpm7PowerState"
   ]
  },
  {
   "cell_type": "markdown",
   "id": "0c35e1d5-3a32-4b2b-a4e9-eb88ec2ea60c",
   "metadata": {},
   "source": [
    "## To be continued...."
   ]
  }
 ],
 "metadata": {
  "kernelspec": {
   "display_name": "Python 3 (ipykernel)",
   "language": "python",
   "name": "python3"
  },
  "language_info": {
   "codemirror_mode": {
    "name": "ipython",
    "version": 3
   },
   "file_extension": ".py",
   "mimetype": "text/x-python",
   "name": "python",
   "nbconvert_exporter": "python",
   "pygments_lexer": "ipython3",
   "version": "3.10.6"
  }
 },
 "nbformat": 4,
 "nbformat_minor": 5
}
